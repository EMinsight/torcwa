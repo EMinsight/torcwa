{
 "cells": [
  {
   "cell_type": "code",
   "execution_count": 1,
   "metadata": {},
   "outputs": [],
   "source": [
    "'''\n",
    "TORCWA Example0\n",
    "Fresnel equation\n",
    "\n",
    "'''\n",
    "# Import\n",
    "import numpy as np\n",
    "import torch\n",
    "from matplotlib import pyplot as plt\n",
    "\n",
    "import torcwa\n",
    "\n",
    "# Hardware\n",
    "# If GPU support TF32 tensor core, the matmul operation is faster than FP32 but with less precision.\n",
    "# If you need accurate operation, you have to disable the flag below.\n",
    "torch.backends.cuda.matmul.allow_tf32 = False\n",
    "sim_dtype = torch.complex64\n",
    "geo_dtype = torch.float32\n",
    "device = torch.device('cuda')\n",
    "\n",
    "# Simulation environment\n",
    "# light\n",
    "lamb0 = 532.                # nm\n",
    "azi_ang = 0.*(np.pi/180)    # radian\n",
    "\n",
    "# material\n",
    "substrate_eps = 2.**2\n",
    "\n",
    "# geometry\n",
    "L = [300., 300.]            # nm / nm\n",
    "torcwa.rcwa_geo.device = device\n",
    "torcwa.rcwa_geo.dtype = geo_dtype\n",
    "torcwa.rcwa_geo.Lx = L[0]\n",
    "torcwa.rcwa_geo.Ly = L[1]\n",
    "torcwa.rcwa_geo.nx = 300\n",
    "torcwa.rcwa_geo.ny = 300\n",
    "torcwa.rcwa_geo.grid()\n",
    "torcwa.rcwa_geo.edge_sharpness = 1000.\n",
    "\n",
    "x_axis = torcwa.rcwa_geo.x.cpu()\n",
    "y_axis = torcwa.rcwa_geo.y.cpu()"
   ]
  },
  {
   "cell_type": "code",
   "execution_count": 2,
   "metadata": {},
   "outputs": [],
   "source": [
    "# Generate and perform simulation\n",
    "order_N = 7\n",
    "order = [order_N,order_N]\n",
    "inc_ang = torch.linspace(0.,40.,40,dtype=geo_dtype,device=device)*(np.pi/180)\n",
    "\n",
    "r_TM = []\n",
    "r_TE = []\n",
    "for ia_ind in range(len(inc_ang)):\n",
    "    inc_ang_now = inc_ang[ia_ind]\n",
    "    sim = torcwa.rcwa(freq=1/lamb0,order=order,L=L,dtype=sim_dtype,device=device)\n",
    "    sim.add_input_layer(eps=substrate_eps)\n",
    "    sim.set_incident_angle(inc_ang=inc_ang_now,azi_ang=azi_ang)\n",
    "    sim.solve_global_smatrix()\n",
    "    r_TM.append(sim.S_parameters(orders=[0,0],direction='forward',port='reflection',polarization='xx',ref_order=[0,0]))\n",
    "    r_TE.append(sim.S_parameters(orders=[0,0],direction='forward',port='reflection',polarization='yy',ref_order=[0,0]))\n",
    "\n",
    "r_TM = torch.cat(r_TM)\n",
    "r_TE = torch.cat(r_TE)"
   ]
  },
  {
   "cell_type": "code",
   "execution_count": 3,
   "metadata": {},
   "outputs": [],
   "source": [
    "# Analytic\n",
    "n1 = 2.\n",
    "n2 = 1.\n",
    "\n",
    "R_TM_an = torch.abs( (n1*torch.sqrt(1-(n1/n2*torch.sin(inc_ang.to(sim_dtype)))**2) - n2*torch.cos(inc_ang.to(sim_dtype))) \\\n",
    "    / (n1*torch.sqrt(1-(n1/n2*torch.sin(inc_ang.to(sim_dtype)))**2) + n2*torch.cos(inc_ang.to(sim_dtype))) )**2\n",
    "R_TE_an = torch.abs( (n1*torch.cos(inc_ang.to(sim_dtype)) - n2*torch.sqrt(1-(n1/n2*torch.sin(inc_ang.to(sim_dtype)))**2)) \\\n",
    "    / (n1*torch.cos(inc_ang.to(sim_dtype)) + n2*torch.sqrt(1-(n1/n2*torch.sin(inc_ang.to(sim_dtype)))**2)) )**2"
   ]
  },
  {
   "cell_type": "code",
   "execution_count": 4,
   "metadata": {},
   "outputs": [
    {
     "data": {
      "image/png": "[encoded data removed]",
      "text/plain": [
       "<Figure size 432x288 with 1 Axes>"
      ]
     },
     "metadata": {
      "needs_background": "light"
     },
     "output_type": "display_data"
    }
   ],
   "source": [
    "# View spectrum\n",
    "plt.plot(180/np.pi*inc_ang.cpu(),R_TM_an.cpu(),'r')\n",
    "plt.plot(180/np.pi*inc_ang.cpu(),R_TE_an.cpu(),'b')\n",
    "plt.plot(180/np.pi*inc_ang.cpu(),torch.abs(r_TM).cpu()**2,'ro')\n",
    "plt.plot(180/np.pi*inc_ang.cpu(),torch.abs(r_TE).cpu()**2,'bo')\n",
    "plt.title('Spectrum')\n",
    "plt.xlabel('Incident angle (deg.)')\n",
    "plt.ylabel('Reflectance')\n",
    "plt.grid()"
   ]
  }
 ],
 "metadata": {
  "interpreter": {
   "hash": "a077222d77dfe082b8f1dd562ad70e458ac2ab76993a0b248ab0476e32e9e8dd"
  },
  "kernelspec": {
   "display_name": "Python 3.9.7 ('base')",
   "language": "python",
   "name": "python3"
  },
  "language_info": {
   "codemirror_mode": {
    "name": "ipython",
    "version": 3
   },
   "file_extension": ".py",
   "mimetype": "text/x-python",
   "name": "python",
   "nbconvert_exporter": "python",
   "pygments_lexer": "ipython3",
   "version": "3.9.7"
  },
  "orig_nbformat": 4
 },
 "nbformat": 4,
 "nbformat_minor": 2
}
