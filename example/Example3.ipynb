{
 "cells": [
  {
   "cell_type": "code",
   "execution_count": 1,
   "metadata": {},
   "outputs": [],
   "source": [
    "'''\n",
    "TORCWA Example3\n",
    "Parametric sweep on rectangular meta-atom\n",
    "\n",
    "'''\n",
    "# Import\n",
    "import numpy as np\n",
    "import torch\n",
    "import scipy.io\n",
    "import time\n",
    "\n",
    "import torcwa\n",
    "import Materials\n",
    "\n",
    "# Hardware\n",
    "# If GPU support TF32 tensor core, the matmul operation is faster than FP32 but with less precision.\n",
    "# If you need accurate operation, you have to disable the flag below.\n",
    "torch.backends.cuda.matmul.allow_tf32 = False\n",
    "sim_dtype = torch.complex64\n",
    "geo_dtype = torch.float32\n",
    "device = torch.device('cpu')\n",
    "\n",
    "# Simulation environment\n",
    "# light\n",
    "lamb0 = torch.tensor(532.,dtype=geo_dtype,device=device)    # nm\n",
    "inc_ang = 0.*(np.pi/180)                    # radian\n",
    "azi_ang = 0.*(np.pi/180)                    # radian\n",
    "\n",
    "# material\n",
    "substrate_eps = 1.46**2\n",
    "silicon_eps = Materials.aSiH.apply(lamb0)**2\n",
    "\n",
    "# geometry\n",
    "L = [300., 300.]            # nm / nm\n",
    "torcwa.rcwa_geo.dtype = geo_dtype\n",
    "torcwa.rcwa_geo.device = device\n",
    "torcwa.rcwa_geo.Lx = L[0]\n",
    "torcwa.rcwa_geo.Ly = L[1]\n",
    "torcwa.rcwa_geo.nx = 300\n",
    "torcwa.rcwa_geo.ny = 300\n",
    "torcwa.rcwa_geo.grid()\n",
    "torcwa.rcwa_geo.edge_sharpness = 1000.\n",
    "\n",
    "x_axis = torcwa.rcwa_geo.x.cpu()\n",
    "y_axis = torcwa.rcwa_geo.y.cpu()\n",
    "\n",
    "# layers\n",
    "layer0_thickness = 300."
   ]
  },
  {
   "cell_type": "code",
   "execution_count": 2,
   "metadata": {},
   "outputs": [
    {
     "name": "stdout",
     "output_type": "stream",
     "text": [
      "9.09 % Completed.\n",
      "18.18 % Completed.\n",
      "27.27 % Completed.\n",
      "36.36 % Completed.\n",
      "45.45 % Completed.\n",
      "54.54 % Completed.\n",
      "63.63 % Completed.\n",
      "72.72 % Completed.\n",
      "81.81 % Completed.\n",
      "90.9 % Completed.\n",
      "100.0 % Completed.\n",
      "Elapsed time: 18939.01 s\n"
     ]
    }
   ],
   "source": [
    "# Generate and perform simulation\n",
    "order_N = 20\n",
    "order = [order_N,order_N]\n",
    "Wx = torch.linspace(50.,250.,11,dtype=geo_dtype,device=device)\n",
    "Wy = torch.linspace(50.,250.,11,dtype=geo_dtype,device=device)\n",
    "\n",
    "start_time = time.time()\n",
    "txx = torch.zeros((11,11),dtype=sim_dtype,device=device)\n",
    "for Wx_ind in range(len(Wx)):\n",
    "    for Wy_ind in range(len(Wy)):\n",
    "        sim = torcwa.rcwa(freq=1/lamb0,order=order,L=L,dtype=sim_dtype,device=device)\n",
    "        sim.add_input_layer(eps=substrate_eps)\n",
    "        sim.set_incident_angle(inc_ang=inc_ang,azi_ang=azi_ang)\n",
    "        layer0_geometry = torcwa.rcwa_geo.rectangle(Wx=Wx[Wx_ind],Wy=Wy[Wy_ind],Cx=L[0]/2.,Cy=L[1]/2.)\n",
    "        layer0_eps = layer0_geometry*silicon_eps + (1.-layer0_geometry)\n",
    "        sim.add_layer(thickness=layer0_thickness,eps=layer0_eps)\n",
    "        sim.solve_global_smatrix()\n",
    "        txx[Wx_ind,Wy_ind] = sim.S_parameters(orders=[0,0],direction='forward',port='transmission',polarization='xx',ref_order=[0,0])\n",
    "    print(str(int((Wx_ind+1)/len(Wx)*10000)/100)+' % Completed.')\n",
    "end_time = time.time()\n",
    "elapsed_time = end_time - start_time\n",
    "print('Elapsed time: '+str(int(elapsed_time*100)/100)+' s')"
   ]
  },
  {
   "cell_type": "code",
   "execution_count": 3,
   "metadata": {},
   "outputs": [],
   "source": [
    "# Export spectrum data\n",
    "filename = 'Example3_spectrum_data_XeonGold5118_CPUonly_64bit_order_'+str(order_N)+'.mat'\n",
    "# filename = 'Example3_spectrum_data_XeonGold5118_RTX3090_64bit_FP32_order_'+str(order_N)+'.mat'\n",
    "# filename = 'Example3_spectrum_data_XeonGold5118_RTX3090_64bit_TF32_order_'+str(order_N)+'.mat'\n",
    "# filename = 'Example3_spectrum_data_XeonGold5118_RTX3090_128bit_order_'+str(order_N)+'.mat'\n",
    "\n",
    "ex3_data = {'Wx':Wx.cpu().numpy(),'Wy':Wy.cpu().numpy(),'txx':txx.cpu().numpy(),'elapsed_time':elapsed_time}\n",
    "scipy.io.savemat(filename,ex3_data)"
   ]
  }
 ],
 "metadata": {
  "interpreter": {
   "hash": "5f292722d6d50c2426abae6fd15a85386b49c5393ec98f1c35f79e4e4dd7448b"
  },
  "kernelspec": {
   "display_name": "Python 3.8.5 64-bit ('base': conda)",
   "name": "python3"
  },
  "language_info": {
   "codemirror_mode": {
    "name": "ipython",
    "version": 3
   },
   "file_extension": ".py",
   "mimetype": "text/x-python",
   "name": "python",
   "nbconvert_exporter": "python",
   "pygments_lexer": "ipython3",
   "version": "3.8.5"
  },
  "orig_nbformat": 2
 },
 "nbformat": 4,
 "nbformat_minor": 2
}
